{
 "cells": [
  {
   "cell_type": "markdown",
   "id": "79a170ba",
   "metadata": {},
   "source": [
    "# DSCI 503 - Project 01\n",
    "### Symphony Hopkins"
   ]
  },
  {
   "cell_type": "markdown",
   "id": "ef23e24a",
   "metadata": {},
   "source": [
    "# Introduction"
   ]
  },
  {
   "cell_type": "markdown",
   "id": "293555a5",
   "metadata": {},
   "source": [
    "We will analyze the gapminder dataset, which contains socioeconomic information from 184 countries from the years 1800 to 2018. "
   ]
  },
  {
   "cell_type": "code",
   "execution_count": 1,
   "id": "d62d6c27",
   "metadata": {},
   "outputs": [
    {
     "data": {
      "text/html": [
       "<div>\n",
       "<style scoped>\n",
       "    .dataframe tbody tr th:only-of-type {\n",
       "        vertical-align: middle;\n",
       "    }\n",
       "\n",
       "    .dataframe tbody tr th {\n",
       "        vertical-align: top;\n",
       "    }\n",
       "\n",
       "    .dataframe thead th {\n",
       "        text-align: right;\n",
       "    }\n",
       "</style>\n",
       "<table border=\"1\" class=\"dataframe\">\n",
       "  <thead>\n",
       "    <tr style=\"text-align: right;\">\n",
       "      <th></th>\n",
       "      <th>country</th>\n",
       "      <th>year</th>\n",
       "      <th>continent</th>\n",
       "      <th>population</th>\n",
       "      <th>life_exp</th>\n",
       "      <th>gdp_per_cap</th>\n",
       "      <th>gini</th>\n",
       "    </tr>\n",
       "  </thead>\n",
       "  <tbody>\n",
       "    <tr>\n",
       "      <th>0</th>\n",
       "      <td>Afghanistan</td>\n",
       "      <td>1800</td>\n",
       "      <td>asia</td>\n",
       "      <td>3280000</td>\n",
       "      <td>28.2</td>\n",
       "      <td>603</td>\n",
       "      <td>30.5</td>\n",
       "    </tr>\n",
       "    <tr>\n",
       "      <th>1</th>\n",
       "      <td>Albania</td>\n",
       "      <td>1800</td>\n",
       "      <td>europe</td>\n",
       "      <td>410000</td>\n",
       "      <td>35.4</td>\n",
       "      <td>667</td>\n",
       "      <td>38.9</td>\n",
       "    </tr>\n",
       "    <tr>\n",
       "      <th>2</th>\n",
       "      <td>Algeria</td>\n",
       "      <td>1800</td>\n",
       "      <td>africa</td>\n",
       "      <td>2500000</td>\n",
       "      <td>28.8</td>\n",
       "      <td>715</td>\n",
       "      <td>56.2</td>\n",
       "    </tr>\n",
       "    <tr>\n",
       "      <th>3</th>\n",
       "      <td>Angola</td>\n",
       "      <td>1800</td>\n",
       "      <td>africa</td>\n",
       "      <td>1570000</td>\n",
       "      <td>27.0</td>\n",
       "      <td>618</td>\n",
       "      <td>57.2</td>\n",
       "    </tr>\n",
       "    <tr>\n",
       "      <th>4</th>\n",
       "      <td>Antigua and Barbuda</td>\n",
       "      <td>1800</td>\n",
       "      <td>americas</td>\n",
       "      <td>37000</td>\n",
       "      <td>33.5</td>\n",
       "      <td>757</td>\n",
       "      <td>40.0</td>\n",
       "    </tr>\n",
       "    <tr>\n",
       "      <th>5</th>\n",
       "      <td>Argentina</td>\n",
       "      <td>1800</td>\n",
       "      <td>americas</td>\n",
       "      <td>534000</td>\n",
       "      <td>33.2</td>\n",
       "      <td>1510</td>\n",
       "      <td>47.7</td>\n",
       "    </tr>\n",
       "    <tr>\n",
       "      <th>6</th>\n",
       "      <td>Armenia</td>\n",
       "      <td>1800</td>\n",
       "      <td>europe</td>\n",
       "      <td>413000</td>\n",
       "      <td>34.0</td>\n",
       "      <td>514</td>\n",
       "      <td>31.5</td>\n",
       "    </tr>\n",
       "    <tr>\n",
       "      <th>7</th>\n",
       "      <td>Australia</td>\n",
       "      <td>1800</td>\n",
       "      <td>asia</td>\n",
       "      <td>351000</td>\n",
       "      <td>34.0</td>\n",
       "      <td>814</td>\n",
       "      <td>38.7</td>\n",
       "    </tr>\n",
       "    <tr>\n",
       "      <th>8</th>\n",
       "      <td>Austria</td>\n",
       "      <td>1800</td>\n",
       "      <td>europe</td>\n",
       "      <td>3210000</td>\n",
       "      <td>34.4</td>\n",
       "      <td>1850</td>\n",
       "      <td>33.4</td>\n",
       "    </tr>\n",
       "    <tr>\n",
       "      <th>9</th>\n",
       "      <td>Azerbaijan</td>\n",
       "      <td>1800</td>\n",
       "      <td>europe</td>\n",
       "      <td>880000</td>\n",
       "      <td>29.2</td>\n",
       "      <td>775</td>\n",
       "      <td>70.5</td>\n",
       "    </tr>\n",
       "  </tbody>\n",
       "</table>\n",
       "</div>"
      ],
      "text/plain": [
       "               country  year continent  population  life_exp  gdp_per_cap  \\\n",
       "0          Afghanistan  1800      asia     3280000      28.2          603   \n",
       "1              Albania  1800    europe      410000      35.4          667   \n",
       "2              Algeria  1800    africa     2500000      28.8          715   \n",
       "3               Angola  1800    africa     1570000      27.0          618   \n",
       "4  Antigua and Barbuda  1800  americas       37000      33.5          757   \n",
       "5            Argentina  1800  americas      534000      33.2         1510   \n",
       "6              Armenia  1800    europe      413000      34.0          514   \n",
       "7            Australia  1800      asia      351000      34.0          814   \n",
       "8              Austria  1800    europe     3210000      34.4         1850   \n",
       "9           Azerbaijan  1800    europe      880000      29.2          775   \n",
       "\n",
       "   gini  \n",
       "0  30.5  \n",
       "1  38.9  \n",
       "2  56.2  \n",
       "3  57.2  \n",
       "4  40.0  \n",
       "5  47.7  \n",
       "6  31.5  \n",
       "7  38.7  \n",
       "8  33.4  \n",
       "9  70.5  "
      ]
     },
     "execution_count": 1,
     "metadata": {},
     "output_type": "execute_result"
    }
   ],
   "source": [
    "import pandas as pd\n",
    "df = pd.read_csv('gapminder_data.txt', sep='\\t')\n",
    "df.head(10)"
   ]
  },
  {
   "cell_type": "code",
   "execution_count": 2,
   "id": "d191dba8",
   "metadata": {},
   "outputs": [],
   "source": [
    "country = df.country.to_list()\n",
    "continent = df.continent.to_list()\n",
    "year = df.year.to_list()\n",
    "population = df.population.to_list()\n",
    "life_exp = df.life_exp.to_list()\n",
    "pcgdp = df.gdp_per_cap.to_list()\n",
    "gini = df.gini.to_list()"
   ]
  },
  {
   "cell_type": "code",
   "execution_count": 3,
   "id": "5cff18cf",
   "metadata": {
    "scrolled": true
   },
   "outputs": [
    {
     "name": "stdout",
     "output_type": "stream",
     "text": [
      "Country:          Antigua and Barbuda\n",
      "Continent:        americas\n",
      "Year:             1800\n",
      "Population:       37000\n",
      "Life Expectancy:  33.5\n",
      "Per Capita GDP:   757\n",
      "Gini Index:       40.0\n"
     ]
    }
   ],
   "source": [
    "N = 4\n",
    "print('Country:         ', country[N])\n",
    "print('Continent:       ', continent[N])\n",
    "print('Year:            ', year[N])\n",
    "print('Population:      ', population[N])\n",
    "print('Life Expectancy: ', life_exp[N])\n",
    "print('Per Capita GDP:  ', pcgdp[N])\n",
    "print('Gini Index:      ', gini[N])"
   ]
  },
  {
   "cell_type": "markdown",
   "id": "d370fedf",
   "metadata": {},
   "source": [
    "# Part 1: Displaying Past 20 Years of US Data\n",
    "\n",
    "We will create a loop where each iteration displays a year of data from U.S. over a period of 20 years, from 1999 to 2018."
   ]
  },
  {
   "cell_type": "code",
   "execution_count": 4,
   "id": "f88f80e3",
   "metadata": {},
   "outputs": [
    {
     "name": "stdout",
     "output_type": "stream",
     "text": [
      "\n",
      "Year    Country          Population   LExp    pcGDP    Gini\n",
      "-----------------------------------------------------------\n",
      "\n",
      "1999    United States    279000000    76.8    44700    40.5\n",
      "\n",
      "2000    United States    282000000    76.9    46000    40.5\n",
      "\n",
      "2001    United States    285000000    77.0    46000    40.5\n",
      "\n",
      "2002    United States    288000000    77.1    46400    40.5\n",
      "\n",
      "2003    United States    290000000    77.3    47300    40.5\n",
      "\n",
      "2004    United States    293000000    77.5    48600    40.6\n",
      "\n",
      "2005    United States    295000000    77.7    49800    40.7\n",
      "\n",
      "2006    United States    298000000    77.9    50600    40.8\n",
      "\n",
      "2007    United States    301000000    78.1    51000    40.8\n",
      "\n",
      "2008    United States    303000000    78.3    50400    40.8\n",
      "\n",
      "2009    United States    306000000    78.6    48600    40.7\n",
      "\n",
      "2010    United States    309000000    78.7    49400    40.7\n",
      "\n",
      "2011    United States    311000000    78.8    49800    40.7\n",
      "\n",
      "2012    United States    313000000    78.9    50500    40.8\n",
      "\n",
      "2013    United States    316000000    78.9    51000    41.0\n",
      "\n",
      "2014    United States    318000000    78.9    51800    41.2\n",
      "\n",
      "2015    United States    320000000    78.8    52800    41.3\n",
      "\n",
      "2016    United States    322000000    78.8    53300    41.4\n",
      "\n",
      "2017    United States    324000000    79.0    54200    41.5\n",
      "\n",
      "2018    United States    327000000    79.1    54900    41.5\n"
     ]
    }
   ],
   "source": [
    "print('''\n",
    "Year    Country          Population   LExp    pcGDP    Gini\n",
    "-----------------------------------------------------------''')\n",
    "for index in range(len(year)):\n",
    "    if (year[index] >= 1999) and (country[index] == 'United States'):\n",
    "        print(f'''\n",
    "{year[index]}    {country[index]}    {population[index]}    {life_exp[index]}    {pcgdp[index]}    {gini[index]}''')"
   ]
  },
  {
   "cell_type": "markdown",
   "id": "19bcb1ae",
   "metadata": {},
   "source": [
    "# Part 2: Selecting the 2018 Data\n",
    "\n",
    "We will create lists for each column in the dataset, and fill them with information from the year 2018. Then, we will calculate the global population in 2018 to verify that the lists were filled correcly."
   ]
  },
  {
   "cell_type": "code",
   "execution_count": 5,
   "id": "ab460694",
   "metadata": {},
   "outputs": [],
   "source": [
    "country_2018 = []\n",
    "population_2018 = []\n",
    "continent_2018 = []\n",
    "life_exp_2018 = []\n",
    "pcgdp_2018 = []\n",
    "gini_2018 = []\n",
    "\n",
    "for index in range(len(year)):\n",
    "    if year[index] == 2018:\n",
    "        country_2018.append(country[index])\n",
    "        population_2018.append(population[index])\n",
    "        continent_2018.append(continent[index])\n",
    "        life_exp_2018.append(life_exp[index])\n",
    "        pcgdp_2018.append(pcgdp[index])\n",
    "        gini_2018.append(gini[index])\n"
   ]
  },
  {
   "cell_type": "code",
   "execution_count": 6,
   "id": "e228713b",
   "metadata": {},
   "outputs": [
    {
     "name": "stdout",
     "output_type": "stream",
     "text": [
      "The global population in 2018 was 7595200200.\n"
     ]
    }
   ],
   "source": [
    "global_population_2018 = sum(population_2018)\n",
    "print(f'The global population in 2018 was {global_population_2018}.')"
   ]
  },
  {
   "cell_type": "markdown",
   "id": "8a64e2aa",
   "metadata": {},
   "source": [
    "# Part 3: Identifying Countries with Largest and Smallest Populations\n",
    "\n",
    "We will identify countries with the largest and smallest population by sorting through the list we previously created in Part 2."
   ]
  },
  {
   "cell_type": "code",
   "execution_count": 7,
   "id": "37c6fd97",
   "metadata": {
    "scrolled": true
   },
   "outputs": [
    {
     "name": "stdout",
     "output_type": "stream",
     "text": [
      "\n",
      "Countries with Largest Populations in 2018\n",
      "-----------------------------------------------------------\n",
      "\n",
      "The population of Bangladesh in 2018 was 166000000.\n",
      "\n",
      "The population of Brazil in 2018 was 211000000.\n",
      "\n",
      "The population of China in 2018 was 1420000000.\n",
      "\n",
      "The population of India in 2018 was 1350000000.\n",
      "\n",
      "The population of Indonesia in 2018 was 267000000.\n",
      "\n",
      "The population of Mexico in 2018 was 131000000.\n",
      "\n",
      "The population of Nigeria in 2018 was 196000000.\n",
      "\n",
      "The population of Pakistan in 2018 was 201000000.\n",
      "\n",
      "The population of Russia in 2018 was 144000000.\n",
      "\n",
      "The population of United States in 2018 was 327000000.\n"
     ]
    }
   ],
   "source": [
    "copy_population_2018 = population_2018.copy()\n",
    "desc_population_2018 = sorted(copy_population_2018, reverse = True)\n",
    "tenth_largest_pop = desc_population_2018[9]\n",
    "\n",
    "print('''\n",
    "Countries with Largest Populations in 2018\n",
    "-----------------------------------------------------------''')\n",
    "for index in range(len(population_2018)):\n",
    "    if (population_2018[index] >= tenth_largest_pop):\n",
    "        print(f'''\n",
    "The population of {country_2018[index]} in 2018 was {population_2018[index]}.''')"
   ]
  },
  {
   "cell_type": "code",
   "execution_count": 8,
   "id": "4edf2962",
   "metadata": {},
   "outputs": [
    {
     "name": "stdout",
     "output_type": "stream",
     "text": [
      "\n",
      "Countries with Smallest Populations in 2018\n",
      "-----------------------------------------------------------\n",
      "\n",
      "The population of Antigua and Barbuda in 2018 was 103000.\n",
      "\n",
      "The population of Grenada in 2018 was 108000.\n",
      "\n",
      "The population of Kiribati in 2018 was 118000.\n",
      "\n",
      "The population of Micronesia, Fed. Sts. in 2018 was 106000.\n",
      "\n",
      "The population of Samoa in 2018 was 198000.\n",
      "\n",
      "The population of Sao Tome and Principe in 2018 was 209000.\n",
      "\n",
      "The population of Seychelles in 2018 was 95200.\n",
      "\n",
      "The population of St. Lucia in 2018 was 180000.\n",
      "\n",
      "The population of St. Vincent and the Grenadines in 2018 was 110000.\n",
      "\n",
      "The population of Tonga in 2018 was 109000.\n"
     ]
    }
   ],
   "source": [
    "asc_population_2018 = sorted(copy_population_2018)\n",
    "tenth_smallest_pop = asc_population_2018[9]\n",
    "\n",
    "print('''\n",
    "Countries with Smallest Populations in 2018\n",
    "-----------------------------------------------------------''')\n",
    "for index in range(len(population_2018)):\n",
    "    if (population_2018[index] <= tenth_smallest_pop):\n",
    "        print(f'''\n",
    "The population of {country_2018[index]} in 2018 was {population_2018[index]}.''')"
   ]
  },
  {
   "cell_type": "markdown",
   "id": "8e4a2fe0",
   "metadata": {},
   "source": [
    "# Part 4: Identifying Countries with Highest and Lowest Life Expectancies\n",
    "\n",
    "We will identify countries with the highest and lowest life expectancies by sorting through the list we previously created in Part 2."
   ]
  },
  {
   "cell_type": "code",
   "execution_count": 9,
   "id": "3da4b5b8",
   "metadata": {},
   "outputs": [
    {
     "name": "stdout",
     "output_type": "stream",
     "text": [
      "\n",
      "Countries with Highest Life Expectancy in 2018\n",
      "-----------------------------------------------------------\n",
      "\n",
      "The life expectancy of Australia in 2018 was 82.9.\n",
      "\n",
      "The life expectancy of France in 2018 was 82.6.\n",
      "\n",
      "The life expectancy of Iceland in 2018 was 82.6.\n",
      "\n",
      "The life expectancy of Israel in 2018 was 82.4.\n",
      "\n",
      "The life expectancy of Italy in 2018 was 82.6.\n",
      "\n",
      "The life expectancy of Japan in 2018 was 84.2.\n",
      "\n",
      "The life expectancy of Luxembourg in 2018 was 82.4.\n",
      "\n",
      "The life expectancy of Norway in 2018 was 82.4.\n",
      "\n",
      "The life expectancy of Singapore in 2018 was 84.0.\n",
      "\n",
      "The life expectancy of Spain in 2018 was 83.2.\n",
      "\n",
      "The life expectancy of Sweden in 2018 was 82.4.\n",
      "\n",
      "The life expectancy of Switzerland in 2018 was 83.5.\n"
     ]
    }
   ],
   "source": [
    "copy_life_exp_2018 = life_exp_2018.copy()\n",
    "desc_life_exp_2018 = sorted(copy_life_exp_2018, reverse = True)\n",
    "tenth_highest_exp = desc_life_exp_2018[9]\n",
    "\n",
    "print('''\n",
    "Countries with Highest Life Expectancy in 2018\n",
    "-----------------------------------------------------------''')\n",
    "for index in range(len(life_exp_2018)):\n",
    "    if (life_exp_2018[index] >= tenth_highest_exp):\n",
    "        print(f'''\n",
    "The life expectancy of {country_2018[index]} in 2018 was {life_exp_2018[index]}.''')"
   ]
  },
  {
   "cell_type": "code",
   "execution_count": 10,
   "id": "f70318e9",
   "metadata": {},
   "outputs": [
    {
     "name": "stdout",
     "output_type": "stream",
     "text": [
      "\n",
      "Countries with Lowest Life Expectancy in 2018\n",
      "-----------------------------------------------------------\n",
      "\n",
      "The life expectancy of Afghanistan in 2018 was 58.7.\n",
      "\n",
      "The life expectancy of Central African Republic in 2018 was 51.6.\n",
      "\n",
      "The life expectancy of Chad in 2018 was 60.5.\n",
      "\n",
      "The life expectancy of Guinea-Bissau in 2018 was 59.7.\n",
      "\n",
      "The life expectancy of Lesotho in 2018 was 51.1.\n",
      "\n",
      "The life expectancy of Sierra Leone in 2018 was 60.0.\n",
      "\n",
      "The life expectancy of Somalia in 2018 was 58.0.\n",
      "\n",
      "The life expectancy of Swaziland in 2018 was 58.6.\n",
      "\n",
      "The life expectancy of Zambia in 2018 was 59.5.\n",
      "\n",
      "The life expectancy of Zimbabwe in 2018 was 60.2.\n"
     ]
    }
   ],
   "source": [
    "asc_life_exp_2018 = sorted(copy_life_exp_2018)\n",
    "tenth_lowest_exp = asc_life_exp_2018[9]\n",
    "\n",
    "print('''\n",
    "Countries with Lowest Life Expectancy in 2018\n",
    "-----------------------------------------------------------''')\n",
    "for index in range(len(life_exp_2018)):\n",
    "    if (life_exp_2018[index] <= tenth_lowest_exp):\n",
    "        print(f'''\n",
    "The life expectancy of {country_2018[index]} in 2018 was {life_exp_2018[index]}.''')"
   ]
  },
  {
   "cell_type": "markdown",
   "id": "04baa448",
   "metadata": {},
   "source": [
    "# Part 5: Calculating GDP by Country\n",
    "\n",
    "We will use the pcGDP_2018 and population_2018 lists from Part 2 to calculate the GDP by country. Then, we will use the answer that we found to calculate the global GDP. Afterwards, we will identify the countries with the highest and lowest GDP."
   ]
  },
  {
   "cell_type": "code",
   "execution_count": 11,
   "id": "069f2907",
   "metadata": {},
   "outputs": [
    {
     "name": "stdout",
     "output_type": "stream",
     "text": [
      "The total global GDP in 2018 was $118225647770000.\n"
     ]
    }
   ],
   "source": [
    "gdp_2018 = []\n",
    "\n",
    "for index in range(len(pcgdp_2018)):\n",
    "    gdp = pcgdp_2018[index] * population_2018[index]\n",
    "    gdp_2018.append(gdp)\n",
    "    \n",
    "total_gdp = sum(gdp_2018)\n",
    "print(f'The total global GDP in 2018 was ${total_gdp}.')"
   ]
  },
  {
   "cell_type": "code",
   "execution_count": 12,
   "id": "6c623b46",
   "metadata": {},
   "outputs": [
    {
     "name": "stdout",
     "output_type": "stream",
     "text": [
      "\n",
      "The country with the highest GDP in 2018 was China of 22720000000000.\n",
      "The country with the highest GDP in 2018 was Kiribati of 223020000.\n",
      "\n"
     ]
    }
   ],
   "source": [
    "highest_gdp = max(gdp_2018)\n",
    "highest_gdp_index = gdp_2018.index(highest_gdp)\n",
    "lowest_gdp = min(gdp_2018)\n",
    "lowest_gdp_index = gdp_2018.index(lowest_gdp)\n",
    "\n",
    "print(f'''\n",
    "The country with the highest GDP in 2018 was {country[highest_gdp_index]} of {highest_gdp}.\n",
    "The country with the highest GDP in 2018 was {country[lowest_gdp_index]} of {lowest_gdp}.\n",
    "''')"
   ]
  },
  {
   "cell_type": "markdown",
   "id": "f8d4991a",
   "metadata": {},
   "source": [
    "# Part 6: Grouping by Continent\n",
    "\n",
    "We will group the countries by continent by using the lists from Part 2 so that we can calculate the total population, pcGDP, and life expectancy by continent."
   ]
  },
  {
   "cell_type": "code",
   "execution_count": 13,
   "id": "370edc75-5c91-4339-bd92-27a9ca4b0f2d",
   "metadata": {},
   "outputs": [
    {
     "name": "stdout",
     "output_type": "stream",
     "text": [
      "\n",
      "Continent        Population       pcGDP            Life Exp\n",
      "-----------------------------------------------------------\n",
      "Africa           1287150200        6049509310000       66.0\n",
      "Americas         1010978000       29023263900000       78.0\n",
      "Asia             4455113000       56602608160000       73.0\n",
      "Europe            841959000       26550266400000       78.0\n",
      "\n"
     ]
    }
   ],
   "source": [
    "continent_names = ['africa', 'americas','asia','europe']\n",
    "pcgdp_2018_by_continent = []\n",
    "pop_2018_by_continent = []\n",
    "life_exp_2018_by_continent = []\n",
    "\n",
    "for continent in continent_names: \n",
    "    temp_life_exp = 0\n",
    "    temp_pop = 0\n",
    "    temp_gdp = 0\n",
    "    num_of_countries = 0\n",
    "    for index in range(len(continent_2018)):\n",
    "        if continent_2018[index] == continent:    \n",
    "            temp_life_exp += life_exp_2018[index] * population_2018[index]\n",
    "            temp_pop += population_2018[index]\n",
    "            temp_gdp += gdp_2018[index]\n",
    "            num_of_countries += 1\n",
    "            \n",
    "    temp_life_exp = round(temp_life_exp/temp_pop, 0)\n",
    "    temp_gdp = round(temp_gdp, 0)\n",
    "        \n",
    "    pcgdp_2018_by_continent.append(temp_gdp)\n",
    "    pop_2018_by_continent.append(temp_pop)\n",
    "    life_exp_2018_by_continent.append(temp_life_exp)\n",
    "    \n",
    "print(f'''\n",
    "Continent        Population       pcGDP            Life Exp\n",
    "-----------------------------------------------------------\n",
    "Africa           {pop_2018_by_continent[0]}        {pcgdp_2018_by_continent[0]}       {life_exp_2018_by_continent[0]}\n",
    "Americas         {pop_2018_by_continent[1]}       {pcgdp_2018_by_continent[1]}       {life_exp_2018_by_continent[1]}\n",
    "Asia             {pop_2018_by_continent[2]}       {pcgdp_2018_by_continent[2]}       {life_exp_2018_by_continent[2]}\n",
    "Europe            {pop_2018_by_continent[3]}       {pcgdp_2018_by_continent[3]}       {life_exp_2018_by_continent[3]}\n",
    "''')"
   ]
  }
 ],
 "metadata": {
  "kernelspec": {
   "display_name": "Python 3 (ipykernel)",
   "language": "python",
   "name": "python3"
  },
  "language_info": {
   "codemirror_mode": {
    "name": "ipython",
    "version": 3
   },
   "file_extension": ".py",
   "mimetype": "text/x-python",
   "name": "python",
   "nbconvert_exporter": "python",
   "pygments_lexer": "ipython3",
   "version": "3.9.7"
  }
 },
 "nbformat": 4,
 "nbformat_minor": 5
}
